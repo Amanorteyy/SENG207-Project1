{
 "cells": [
  {
   "cell_type": "markdown",
   "id": "b349ca66-71a1-4251-bf32-c1beb6d6a46d",
   "metadata": {},
   "source": [
    "Kenneth Amanortey Narterh\n",
    "\n",
    "11068748\n",
    "\n",
    "FPEN"
   ]
  },
  {
   "cell_type": "code",
   "execution_count": null,
   "id": "80edc982-8d99-413b-bab4-bcf21d58f87e",
   "metadata": {},
   "outputs": [],
   "source": [
    "!pip install pandas matplotlib numpy\n",
    "import pandas as pd\n",
    "import matplotlib.pyplot as plt\n",
    "import numpy as np"
   ]
  },
  {
   "cell_type": "code",
   "execution_count": null,
   "id": "15fc8fdd-ff14-4183-97b0-04147b3287ce",
   "metadata": {},
   "outputs": [],
   "source": [
    "dataset_path = \"red_wine.csv\"\n",
    "df = pd.read_csv(dataset_path)"
   ]
  },
  {
   "cell_type": "code",
   "execution_count": null,
   "id": "4499d25c-fd32-4784-8c10-93a370d1fe36",
   "metadata": {},
   "outputs": [],
   "source": [
    "df.head(10)"
   ]
  },
  {
   "cell_type": "code",
   "execution_count": null,
   "id": "d7fd4236-1559-4026-86eb-d955e1591368",
   "metadata": {},
   "outputs": [],
   "source": [
    "df.tail(20)"
   ]
  },
  {
   "cell_type": "code",
   "execution_count": null,
   "id": "6d6f8a82-34c6-4854-8dfb-41ba30858e48",
   "metadata": {},
   "outputs": [],
   "source": [
    "df.info()"
   ]
  },
  {
   "cell_type": "code",
   "execution_count": null,
   "id": "10fa2dd1-b9ef-4d5e-93a4-5547f7adb447",
   "metadata": {},
   "outputs": [],
   "source": [
    "df.describe()"
   ]
  },
  {
   "cell_type": "code",
   "execution_count": null,
   "id": "75df99b2-d006-43f4-9a62-cb7b69c59eb8",
   "metadata": {},
   "outputs": [],
   "source": [
    "df[['fixed acidity', 'volatile acidity', 'citric acid', 'residual sugar', 'chlorides']].hist(bins=15, figsize=(15, 10))\n",
    "plt.suptitle('Histograms of Selected Parameters', y=0.92)\n",
    "plt.show()"
   ]
  },
  {
   "cell_type": "code",
   "execution_count": null,
   "id": "78c1dc12-4486-4fe0-b4f7-c9f170676858",
   "metadata": {},
   "outputs": [],
   "source": [
    "plt.figure(figsize=(8, 6))\n",
    "df['quality'].value_counts().sort_index().plot(kind='bar', color='Red')\n",
    "plt.title('Distribution of Wine Quality')\n",
    "plt.xlabel('Quality')\n",
    "plt.ylabel('Count')\n",
    "plt.show()"
   ]
  },
  {
   "cell_type": "code",
   "execution_count": null,
   "id": "38315a50-05bd-4d2e-ba59-1b4846fa8fdf",
   "metadata": {},
   "outputs": [],
   "source": [
    "plt.figure(figsize=(10, 6))\n",
    "plt.scatter(df['fixed acidity'], df['alcohol'], alpha=0.5, color='green')\n",
    "plt.title('Scatter Plot: Fixed Acidity vs. Alcohol Content')\n",
    "plt.xlabel('Fixed Acidity')\n",
    "plt.ylabel('Alcohol Content')\n",
    "plt.show()"
   ]
  },
  {
   "cell_type": "code",
   "execution_count": null,
   "id": "c2869960-9adf-4518-b064-b55319bb1f0c",
   "metadata": {},
   "outputs": [],
   "source": [
    "plt.figure(figsize=(10, 6))\n",
    "plt.scatter(df['fixed acidity'], df['volatile acidity'], alpha=0.5, color='purple')\n",
    "plt.title('Scatter Plot: Fixed Acidity vs. Volatile Acidity')\n",
    "plt.xlabel('Fixed Acidity')\n",
    "plt.ylabel('Volatile Acidity')\n",
    "plt.show()"
   ]
  },
  {
   "cell_type": "code",
   "execution_count": null,
   "id": "18106070-d3ec-4ba3-9917-86d1889edbd0",
   "metadata": {},
   "outputs": [],
   "source": [
    "average_alcohol_by_quality = df.groupby('quality')['alcohol'].mean()\n",
    "plt.figure(figsize=(8, 6))\n",
    "average_alcohol_by_quality.plot(kind='bar', color='orange')\n",
    "plt.title('Average Alcohol Content by Quality')\n",
    "plt.xlabel('Quality')\n",
    "plt.ylabel('Average Alcohol Content')\n",
    "plt.show()"
   ]
  },
  {
   "cell_type": "code",
   "execution_count": null,
   "id": "6e4fb499-bc14-4345-a9e6-2baf9b1ab2ab",
   "metadata": {},
   "outputs": [],
   "source": [
    "plt.figure(figsize=(8, 6))\n",
    "plt.hist(df['residual sugar'], bins=20, color='blue', alpha=0.7)\n",
    "plt.title('Histogram of Residual Sugar')\n",
    "plt.xlabel('Residual Sugar')\n",
    "plt.ylabel('Frequency')\n",
    "plt.show()"
   ]
  },
  {
   "cell_type": "code",
   "execution_count": null,
   "id": "136e07de-d720-4fe8-88ca-5ddb6e432b84",
   "metadata": {},
   "outputs": [],
   "source": [
    "plt.figure(figsize=(10, 6))\n",
    "plt.boxplot([df[df['quality'] == i]['pH'] for i in sorted(df['quality'].unique())], labels=sorted(df['quality'].unique()))\n",
    "plt.title('Box Plot of pH by Quality')\n",
    "plt.xlabel('Quality')\n",
    "plt.ylabel('pH')\n",
    "plt.show()"
   ]
  },
  {
   "cell_type": "code",
   "execution_count": null,
   "id": "26e0e87d-59f6-453e-9ef2-eb07929114a6",
   "metadata": {},
   "outputs": [],
   "source": [
    "plt.figure(figsize=(10, 6))\n",
    "plt.boxplot([df[df['quality'] == i]['sulphates'] for i in sorted(df['quality'].unique())], labels=sorted(df['quality'].unique()))\n",
    "plt.title('Box Plot of Sulphates by Quality')\n",
    "plt.xlabel('Quality')\n",
    "plt.ylabel('Sulphates')\n",
    "plt.show()"
   ]
  },
  {
   "cell_type": "markdown",
   "id": "7420fb47-eacf-440c-94fd-36ba55faba3d",
   "metadata": {},
   "source": [
    "### Analysis of Visualizations\n",
    "---\r\n",
    "\r\n",
    "#### Histograms of Selected Parameters\r\n",
    "The histograms provide insights into the distribution of key parameters. The histogram of fixed acidity suggests a relatively normal distribution, while the histogram of volatile acidity shows a right-skewed distribution with a higher concentration of wines having lower volatile acidity. Additionally, the histogram of alcohol content indicates that there is a diversity of alcohol levels in the dataset.\r\n",
    "\r\n",
    "#### Distribution of Wine Quality\r\n",
    "The bar chart illustrating the distribution of wine quality provides an overview of the dataset. It reveals that the majority of wines fall within the range of quality 5 and 6, with fewer instances of lower and higher quality wines.\r\n",
    "\r\n",
    "#### Scatter Plot: Fixed Acidity vs. Alcohol Content\r\n",
    "The scatter plot visualizes the relationship between fixed acidity and alcohol content. It shows a scattered pattern, suggesting a weak or no clear linear correlation between these two parameters.\r\n",
    "\r\n",
    "#### Scatter Plot: Fixed Acidity vs. Volatile Acidity\r\n",
    "The scatter plot depicting fixed acidity against volatile acidity displays a varied pattern. While there is no apparent linear relationship, the plot shows the spread of wines across different levels of fixed and volatile acidity.\r\n",
    "\r\n",
    "#### Average Alcohol Content by Quality\r\n",
    "The bar chart illustrating the average alcohol content by quality level reveals a positive correlation. Higher-quality wines tend to have, on average, higher alcohol content, while lower-quality wines exhibit lower average alcohol content.\r\n",
    "\r\n",
    "#### Histogram of Residual Sugar\r\n",
    "The histogram of residual sugar provides insights into the distribution of this parameter. It shows that most wines have a lower level of residual sugar, with a few instances of wines having higher residual sugar content.\r\n",
    "\r\n",
    "#### Box Plot of pH by Quality\r\n",
    "The box plot for pH by quality demonstrates variations in pH levels among different quality wines. The median pH for all qualities falls within a relatively narrow range, indicating consistency.\r\n",
    "\r\n",
    "#### Box Plot of Sulphate by Quality\r\n",
    "The box plot for sulphates by quality levels suggests a positive correlation between sulphate levels and wine quality. Higher-quality wines exhibit higher sulphate levels on average.\r\n",
    "\r\n",
    "In summary, the visualizations offer a comprehensive understanding of the dataset, highlighting the distribution and relationships among various parameters and wine quality."
   ]
  }
 ],
 "metadata": {
  "kernelspec": {
   "display_name": "Python 3 (ipykernel)",
   "language": "python",
   "name": "python3"
  },
  "language_info": {
   "codemirror_mode": {
    "name": "ipython",
    "version": 3
   },
   "file_extension": ".py",
   "mimetype": "text/x-python",
   "name": "python",
   "nbconvert_exporter": "python",
   "pygments_lexer": "ipython3",
   "version": "3.12.0"
  }
 },
 "nbformat": 4,
 "nbformat_minor": 5
}
